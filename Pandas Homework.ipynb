{
 "cells": [
  {
   "cell_type": "code",
   "execution_count": null,
   "id": "9778d9b1",
   "metadata": {},
   "outputs": [],
   "source": [
    "#dependencies and setup\n",
    "import pandas as pd\n",
    "\n",
    "#load files\n",
    "school_data_to_load = \"Resources/schools_complete.csv\"\n",
    "student_data_to_load = \"Resources/students_complete.csv\"\n",
    "\n",
    "#read files\n",
    "school_data = pd.read_csv(school_data_to_load)\n",
    "student_data = pd.read_csv(student_data_to_load)\n"
   ]
  },
  {
   "cell_type": "code",
   "execution_count": null,
   "id": "e01238ff",
   "metadata": {
    "scrolled": false
   },
   "outputs": [],
   "source": [
    "#combine data into a single dataset\n",
    "school_data_complete = pd.merge(student_data, school_data, how =\"left\", on=[\"school_name\", \"school_name\"])"
   ]
  },
  {
   "cell_type": "code",
   "execution_count": null,
   "id": "bb852acb",
   "metadata": {
    "scrolled": true
   },
   "outputs": [],
   "source": [
    "#output the data (did this as a test in office hours)\n",
    "school_data_complete\n"
   ]
  },
  {
   "cell_type": "code",
   "execution_count": null,
   "id": "123d0149",
   "metadata": {},
   "outputs": [],
   "source": [
    "#calculate total number of schools\n",
    "total_schools = len(school_data_complete[\"school_name\"].unique())\n",
    "\n",
    "#calculate the total number of students\n",
    "total_students = len(school_data_complete[\"student_name\"])\n",
    "\n",
    "#calculate the total budget\n",
    "total_budget = school_data[\"budget\"].sum()\n",
    "\n",
    "#calculate the average math score\n",
    "avg_math = school_data_complete[\"math_score\"].mean()\n",
    "\n",
    "#calculate the average reading score\n",
    "avg_read = school_data_complete[\"reading_score\"].mean()\n",
    "\n",
    "#calculate the percent of students with a passing math score\n",
    "school_data_complete[\"passing_math\"] = school_data_complete[\"math_score\"] >= 70\n",
    "percent_pass_math = ((school_data_complete[\"passing_math\"].mean())*100)\n",
    "\n",
    "#calculate the percent of students with a passing reading score\n",
    "school_data_complete[\"passing_reading\"] = school_data_complete[\"reading_score\"] >= 70\n",
    "percent_pass_reading = ((school_data_complete[\"passing_reading\"].mean())*100)\n",
    "\n",
    "#calculate the percent of students who passed both math and reading\n",
    "pass_both = school_data_complete[(school_data_complete[\"math_score\"] >= 70) & (school_data_complete[\"reading_score\"] >= 70)]\n",
    "overall_pass_count = pass_both[\"student_name\"].count()\n",
    "overall_pass_percent = overall_pass_count/ total_students * 100\n"
   ]
  },
  {
   "cell_type": "code",
   "execution_count": null,
   "id": "8a0d6572",
   "metadata": {
    "scrolled": false
   },
   "outputs": [],
   "source": [
    "#print the data\n",
    "district_summary_df = pd.DataFrame({\"Total Schools\": total_schools, \"Total Students\": total_students,\n",
    "                                    \"Total Budget\": total_budget, \"Average Math Score\": avg_math, \n",
    "                                    \"Average Reading Score\": avg_read, \"% Passing Math\": percent_pass_math, \"% Passing Reading\": percent_pass_reading, \"% Overall Passing\": overall_pass_percent}, index=[0])\n",
    "district_summary_df.head()"
   ]
  },
  {
   "cell_type": "code",
   "execution_count": null,
   "id": "3b812215",
   "metadata": {
    "scrolled": false
   },
   "outputs": [],
   "source": [
    "#create dataframe to hold results; for some reason I can't figure out how to only get the school names only written onc\n",
    "\n",
    "school_summary_df = pd.DataFrame({\"School Name\": school_data_complete[\"school_name\"], \n",
    "                                 \"School Type\": school_data_complete[\"type\"], \"Total Students\": school_data_complete[\"size\"], \n",
    "                                 \"Total School Budget\": school_data_complete[\"budget\"]})  \n",
    "\n",
    "#set the index to be school name\n",
    "school_summary_df = school_summary_df.set_index(\"School Name\")\n",
    "school_summary_df = school_summary_df.sort_values(by = \"School Name\")\n",
    " \n",
    "#find the per student budget\n",
    "school_summary_df[\"Per Student Budget\"] = school_summary_df[\"Total School Budget\"]/school_summary_df[\"Total Students\"]\n",
    "\n",
    "#find the average math and reading scores\n",
    "school_summary_mean_df = school_data_complete.groupby([\"school_name\"]).mean()\n",
    "school_summary_df[\"Average Math Score\"] = school_summary_mean_df[\"math_score\"]\n",
    "school_summary_df[\"Average Reading Score\"] = school_summary_mean_df[\"reading_score\"]\n",
    "\n",
    "# Calculate the total student count\n",
    "per_school_counts = school_data_complete[\"school_name\"].value_counts()\n",
    "\n",
    "# Calculate the passing scores\n",
    "per_school_passing_math = school_data_complete[(school_data_complete[\"math_score\"] >= 70)]\n",
    "per_school_passing_reading = school_data_complete[(school_data_complete[\"reading_score\"] >= 70)]\n",
    "\n",
    "# Calculate the number of students passing math and reading by school\n",
    "per_school_passing_math = per_school_passing_math.groupby([\"school_name\"]).count()[\"student_name\"]\n",
    "per_school_passing_reading = per_school_passing_reading.groupby([\"school_name\"]).count()[\"student_name\"]\n",
    "\n",
    "# Calculate the percent of passing math and reading scores per school\n",
    "per_school_passing_math = per_school_passing_math / per_school_counts * 100\n",
    "per_school_passing_reading = per_school_passing_reading / per_school_counts * 100\n",
    "\n",
    "# Calculate the students who passed both reading and math.\n",
    "per_passing_math_reading = school_data_complete[(school_data_complete[\"reading_score\"] >= 70)\n",
    "                                               & (school_data_complete[\"math_score\"] >= 70)]\n",
    "\n",
    "# Calculate the number of students passing math and passing reading by school.\n",
    "per_passing_math_reading = per_passing_math_reading.groupby([\"school_name\"]).count()[\"student_name\"]\n",
    "\n",
    "# Calculate the percentage of passing math and reading scores per school.\n",
    "per_overall_passing_percentage = per_passing_math_reading / per_school_counts * 100\n",
    "\n",
    "#find the percent overall passing\n",
    "school_summary_df[\"% Overall Passing\"] = per_passing_math_reading/ per_school_counts * 100\n",
    "\n",
    "\n",
    "school_summary_df.head()\n",
    "school_summary_df"
   ]
  },
  {
   "cell_type": "code",
   "execution_count": null,
   "id": "29ed325f",
   "metadata": {},
   "outputs": [],
   "source": [
    "#find the top performing schools\n",
    "top_performing_schools = school_summary_df.sort_values(by = \"% Overall Passing\", ascending = False)\n",
    "top_performing_schools.head()"
   ]
  },
  {
   "cell_type": "code",
   "execution_count": null,
   "id": "bf034d29",
   "metadata": {},
   "outputs": [],
   "source": [
    "#find the bottom performing schools\n",
    "bottom_performing_schools = school_summary_df.sort_values(by = \"% Overall Passing\", ascending = True)\n",
    "bottom_performing_schools.head()"
   ]
  },
  {
   "cell_type": "code",
   "execution_count": null,
   "id": "a7057d56",
   "metadata": {},
   "outputs": [],
   "source": [
    "#group math scores by grade\n",
    "grade9_df = school_data_complete.loc[school_data_complete[\"grade\"] == \"9th\"].groupby([\"school_name\"])[\"math_score\"].mean()\n",
    "grade10_df = school_data_complete.loc[school_data_complete[\"grade\"] == \"10th\"].groupby([\"school_name\"])[\"math_score\"].mean()\n",
    "grade11_df = school_data_complete.loc[school_data_complete[\"grade\"] == \"11th\"].groupby([\"school_name\"])[\"math_score\"].mean()\n",
    "grade12_df = school_data_complete.loc[school_data_complete[\"grade\"] == \"12th\"].groupby([\"school_name\"])[\"math_score\"].mean()\n",
    "\n",
    "#create dataframe\n",
    "math_grade_df = pd.DataFrame({\"9th\": grade9_df,\n",
    "      \"10th\": grade10_df,\n",
    "      \"11th\": grade11_df,\n",
    "      \"12th\": grade12_df})\n",
    "\n",
    "math_grade_df"
   ]
  },
  {
   "cell_type": "code",
   "execution_count": null,
   "id": "372956be",
   "metadata": {
    "scrolled": true
   },
   "outputs": [],
   "source": [
    "#group reading scores by grade\n",
    "grade9_df = school_data_complete.loc[school_data_complete[\"grade\"] == \"9th\"].groupby([\"school_name\"])[\"reading_score\"].mean()\n",
    "grade10_df = school_data_complete.loc[school_data_complete[\"grade\"] == \"10th\"].groupby([\"school_name\"])[\"reading_score\"].mean()\n",
    "grade11_df = school_data_complete.loc[school_data_complete[\"grade\"] == \"11th\"].groupby([\"school_name\"])[\"reading_score\"].mean()\n",
    "grade12_df = school_data_complete.loc[school_data_complete[\"grade\"] == \"12th\"].groupby([\"school_name\"])[\"reading_score\"].mean()\n",
    "\n",
    "#create dataframe\n",
    "reading_grade_df = pd.DataFrame({\"9th\": grade9_df,\n",
    "      \"10th\": grade10_df,\n",
    "      \"11th\": grade11_df,\n",
    "      \"12th\": grade12_df})\n",
    "\n",
    "reading_grade_df"
   ]
  },
  {
   "cell_type": "code",
   "execution_count": null,
   "id": "e8ec0877",
   "metadata": {},
   "outputs": [],
   "source": [
    "#create bins and labels for school spending\n",
    "school_spending_bins = [0, 585, 630, 645, 680]\n",
    "school_spending_ranges = [\"<$585\", \"$585-630\", \"$630-645\", \"$645-680\"]\n"
   ]
  },
  {
   "cell_type": "code",
   "execution_count": null,
   "id": "13437596",
   "metadata": {
    "scrolled": false
   },
   "outputs": [],
   "source": [
    "# categorize spending based on bins\n",
    "school_summary_df[\"Spending Ranges (Per Student)\"] = pd.cut(school_summary_df[\"Per Student Budget\"], school_spending_bins, labels= school_spending_ranges)\n",
    "school_summary_df"
   ]
  },
  {
   "cell_type": "code",
   "execution_count": null,
   "id": "9ba819c4",
   "metadata": {
    "scrolled": false
   },
   "outputs": [],
   "source": [
    "#create group based off bins\n",
    "school_summary_df = school_summary_df.groupby(\"Spending Ranges (Per Student)\")\n",
    "school_summary_df.max()"
   ]
  },
  {
   "cell_type": "code",
   "execution_count": null,
   "id": "64e909aa",
   "metadata": {},
   "outputs": [],
   "source": [
    "#create bins and labels for school size\n",
    "school_size_bins = [0, 1000, 2000, 5000]\n",
    "school_size_ranges = [\"Small(<1000)\", \"Medium(1000-2000)\", \"Large(2000-5000)\"]"
   ]
  },
  {
   "cell_type": "code",
   "execution_count": null,
   "id": "1c06b4f0",
   "metadata": {
    "scrolled": false
   },
   "outputs": [],
   "source": [
    "#categorize spending based on bins\n",
    "school_summary_df[\"School Size\"] = pd.cut(school_summary_df[\"Total Students\"], school_size_bins, labels=school_size_ranges, include_lowest = True)\n",
    "school_summary_df"
   ]
  },
  {
   "cell_type": "code",
   "execution_count": null,
   "id": "04ed7896",
   "metadata": {},
   "outputs": [],
   "source": [
    "#create group based off bins\n",
    "school_summary_df = school_summary_df.groupby(\"School Size\")\n",
    "school_summary_df.max()"
   ]
  },
  {
   "cell_type": "code",
   "execution_count": null,
   "id": "9011ae6f",
   "metadata": {},
   "outputs": [],
   "source": [
    "#group data based off school type\n",
    "school_summary_df = school_summary_df.groupby(\"School Type\")\n",
    "school_summary_df"
   ]
  },
  {
   "cell_type": "code",
   "execution_count": null,
   "id": "e7637de4",
   "metadata": {},
   "outputs": [],
   "source": [
    "#report\n",
    "#From this data, I can conclude that the school size has an effect on the average scores for reading and math, as well as the percentages of students who are passing reading and math. The larger schools have a significantly lower overall passing percentage compared to the smaller schools, which comes from having lower reading and math averages.\n",
    "#From grouping the scores by school type, it is clear that Charter Schools tend to have higher math and reading score averages as well as the percentages of students who are passing math and reading, which leads to a much higher overall percent of students passing.\n",
    "#From looking at the spending ranges per student, we can conclude that even though the larger schools have a higher spending rate per student, that doesn't equate to higher test scores, as the spending rates per student that are lower have the higher test scores in math, reading, and much higher percentages of students who are passing math and reading."
   ]
  }
 ],
 "metadata": {
  "kernelspec": {
   "display_name": "Python [conda env:PythonData38] *",
   "language": "python",
   "name": "conda-env-PythonData38-py"
  },
  "language_info": {
   "codemirror_mode": {
    "name": "ipython",
    "version": 3
   },
   "file_extension": ".py",
   "mimetype": "text/x-python",
   "name": "python",
   "nbconvert_exporter": "python",
   "pygments_lexer": "ipython3",
   "version": "3.8.12"
  }
 },
 "nbformat": 4,
 "nbformat_minor": 5
}
